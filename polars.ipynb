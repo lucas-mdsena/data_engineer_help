{
 "cells": [
  {
   "cell_type": "code",
   "execution_count": 2,
   "metadata": {},
   "outputs": [],
   "source": [
    "import polars as pl\n",
    "from datetime import datetime"
   ]
  },
  {
   "cell_type": "code",
   "execution_count": 52,
   "metadata": {},
   "outputs": [
    {
     "data": {
      "text/html": [
       "<div><style>\n",
       ".dataframe > thead > tr,\n",
       ".dataframe > tbody > tr {\n",
       "  text-align: right;\n",
       "  white-space: pre-wrap;\n",
       "}\n",
       "</style>\n",
       "<small>shape: (4, 4)</small><table border=\"1\" class=\"dataframe\"><thead><tr><th>integer</th><th>float</th><th>string</th><th>datetime</th></tr><tr><td>i64</td><td>f64</td><td>str</td><td>datetime[μs]</td></tr></thead><tbody><tr><td>1</td><td>5.3</td><td>&quot;a&quot;</td><td>2024-01-01 00:00:00</td></tr><tr><td>2</td><td>4.6</td><td>&quot;b&quot;</td><td>2024-04-10 00:00:00</td></tr><tr><td>3</td><td>8.9</td><td>&quot;c&quot;</td><td>2024-05-15 00:00:00</td></tr><tr><td>4</td><td>1.3</td><td>&quot;d&quot;</td><td>2024-02-06 00:00:00</td></tr></tbody></table></div>"
      ],
      "text/plain": [
       "shape: (4, 4)\n",
       "┌─────────┬───────┬────────┬─────────────────────┐\n",
       "│ integer ┆ float ┆ string ┆ datetime            │\n",
       "│ ---     ┆ ---   ┆ ---    ┆ ---                 │\n",
       "│ i64     ┆ f64   ┆ str    ┆ datetime[μs]        │\n",
       "╞═════════╪═══════╪════════╪═════════════════════╡\n",
       "│ 1       ┆ 5.3   ┆ a      ┆ 2024-01-01 00:00:00 │\n",
       "│ 2       ┆ 4.6   ┆ b      ┆ 2024-04-10 00:00:00 │\n",
       "│ 3       ┆ 8.9   ┆ c      ┆ 2024-05-15 00:00:00 │\n",
       "│ 4       ┆ 1.3   ┆ d      ┆ 2024-02-06 00:00:00 │\n",
       "└─────────┴───────┴────────┴─────────────────────┘"
      ]
     },
     "execution_count": 52,
     "metadata": {},
     "output_type": "execute_result"
    }
   ],
   "source": [
    "import polars as pl\n",
    "dados = {\n",
    "    'integer': [1,2,3,4],\n",
    "    'float': [5.3,4.6,8.9,1.3],\n",
    "    'string': ['a','b','c','d'],\n",
    "    'datetime': [\n",
    "        datetime(2024,1,1),\n",
    "        datetime(2024,4,10),\n",
    "        datetime(2024,5,15),\n",
    "        datetime(2024,2,6)\n",
    "    ]\n",
    "}\n",
    "df = pl.DataFrame(data=dados)\n",
    "df"
   ]
  },
  {
   "cell_type": "code",
   "execution_count": 34,
   "metadata": {},
   "outputs": [
    {
     "data": {
      "text/plain": [
       "<bound method DataFrame.var of shape: (4, 1)\n",
       "┌────────┐\n",
       "│ string │\n",
       "│ ---    │\n",
       "│ str    │\n",
       "╞════════╡\n",
       "│ a      │\n",
       "│ b      │\n",
       "│ c      │\n",
       "│ d      │\n",
       "└────────┘>"
      ]
     },
     "execution_count": 34,
     "metadata": {},
     "output_type": "execute_result"
    }
   ],
   "source": [
    "df.select('string')"
   ]
  },
  {
   "cell_type": "code",
   "execution_count": 12,
   "metadata": {},
   "outputs": [
    {
     "data": {
      "text/html": [
       "<div><style>\n",
       ".dataframe > thead > tr,\n",
       ".dataframe > tbody > tr {\n",
       "  text-align: right;\n",
       "  white-space: pre-wrap;\n",
       "}\n",
       "</style>\n",
       "<small>shape: (4, 2)</small><table border=\"1\" class=\"dataframe\"><thead><tr><th>float</th><th>datetime</th></tr><tr><td>f64</td><td>datetime[μs]</td></tr></thead><tbody><tr><td>5.3</td><td>2024-01-01 00:00:00</td></tr><tr><td>4.6</td><td>2024-04-10 00:00:00</td></tr><tr><td>8.9</td><td>2024-05-15 00:00:00</td></tr><tr><td>1.3</td><td>2024-02-06 00:00:00</td></tr></tbody></table></div>"
      ],
      "text/plain": [
       "shape: (4, 2)\n",
       "┌───────┬─────────────────────┐\n",
       "│ float ┆ datetime            │\n",
       "│ ---   ┆ ---                 │\n",
       "│ f64   ┆ datetime[μs]        │\n",
       "╞═══════╪═════════════════════╡\n",
       "│ 5.3   ┆ 2024-01-01 00:00:00 │\n",
       "│ 4.6   ┆ 2024-04-10 00:00:00 │\n",
       "│ 8.9   ┆ 2024-05-15 00:00:00 │\n",
       "│ 1.3   ┆ 2024-02-06 00:00:00 │\n",
       "└───────┴─────────────────────┘"
      ]
     },
     "execution_count": 12,
     "metadata": {},
     "output_type": "execute_result"
    }
   ],
   "source": [
    "df.select(['float', 'datetime'])"
   ]
  },
  {
   "cell_type": "code",
   "execution_count": 41,
   "metadata": {},
   "outputs": [
    {
     "data": {
      "image/png": "[encoded data removed]",
      "text/plain": [
       "<Figure size 640x480 with 1 Axes>"
      ]
     },
     "metadata": {},
     "output_type": "display_data"
    }
   ],
   "source": [
    "import matplotlib.pyplot as plt\n",
    "import numpy as np\n",
    "\n",
    "fig, ax = plt.subplots()\n",
    "ax.barh(y=df['string'], width=df['integer'])\n",
    "\n",
    "plt.show()"
   ]
  },
  {
   "cell_type": "code",
   "execution_count": 43,
   "metadata": {},
   "outputs": [
    {
     "data": {
      "text/plain": [
       "polars.dataframe.frame.DataFrame"
      ]
     },
     "execution_count": 43,
     "metadata": {},
     "output_type": "execute_result"
    }
   ],
   "source": [
    "type(df['string']) # Retorna a coluna \"string\" como uma series\n",
    "type(df.select('string')) # Retorna a coluna \"string\" como um dataframe"
   ]
  },
  {
   "cell_type": "code",
   "execution_count": 50,
   "metadata": {},
   "outputs": [
    {
     "data": {
      "text/html": [
       "<div><style>\n",
       ".dataframe > thead > tr,\n",
       ".dataframe > tbody > tr {\n",
       "  text-align: right;\n",
       "  white-space: pre-wrap;\n",
       "}\n",
       "</style>\n",
       "<small>shape: (2, 4)</small><table border=\"1\" class=\"dataframe\"><thead><tr><th>integer</th><th>float</th><th>string</th><th>datetime</th></tr><tr><td>i64</td><td>f64</td><td>str</td><td>datetime[μs]</td></tr></thead><tbody><tr><td>1</td><td>5.3</td><td>&quot;a&quot;</td><td>2024-01-01 00:00:00</td></tr><tr><td>2</td><td>4.6</td><td>&quot;b&quot;</td><td>2024-04-10 00:00:00</td></tr></tbody></table></div>"
      ],
      "text/plain": [
       "shape: (2, 4)\n",
       "┌─────────┬───────┬────────┬─────────────────────┐\n",
       "│ integer ┆ float ┆ string ┆ datetime            │\n",
       "│ ---     ┆ ---   ┆ ---    ┆ ---                 │\n",
       "│ i64     ┆ f64   ┆ str    ┆ datetime[μs]        │\n",
       "╞═════════╪═══════╪════════╪═════════════════════╡\n",
       "│ 1       ┆ 5.3   ┆ a      ┆ 2024-01-01 00:00:00 │\n",
       "│ 2       ┆ 4.6   ┆ b      ┆ 2024-04-10 00:00:00 │\n",
       "└─────────┴───────┴────────┴─────────────────────┘"
      ]
     },
     "execution_count": 50,
     "metadata": {},
     "output_type": "execute_result"
    }
   ],
   "source": [
    "df.filter(\n",
    "    (df['string'] == 'a') | (df['integer'] == 2)\n",
    ")"
   ]
  },
  {
   "cell_type": "code",
   "execution_count": 56,
   "metadata": {},
   "outputs": [
    {
     "data": {
      "text/html": [
       "<div><style>\n",
       ".dataframe > thead > tr,\n",
       ".dataframe > tbody > tr {\n",
       "  text-align: right;\n",
       "  white-space: pre-wrap;\n",
       "}\n",
       "</style>\n",
       "<small>shape: (2, 4)</small><table border=\"1\" class=\"dataframe\"><thead><tr><th>integer</th><th>float</th><th>string</th><th>datetime</th></tr><tr><td>i64</td><td>f64</td><td>str</td><td>datetime[μs]</td></tr></thead><tbody><tr><td>1</td><td>5.3</td><td>&quot;a&quot;</td><td>2024-01-01 00:00:00</td></tr><tr><td>2</td><td>4.6</td><td>&quot;b&quot;</td><td>2024-04-10 00:00:00</td></tr></tbody></table></div>"
      ],
      "text/plain": [
       "shape: (2, 4)\n",
       "┌─────────┬───────┬────────┬─────────────────────┐\n",
       "│ integer ┆ float ┆ string ┆ datetime            │\n",
       "│ ---     ┆ ---   ┆ ---    ┆ ---                 │\n",
       "│ i64     ┆ f64   ┆ str    ┆ datetime[μs]        │\n",
       "╞═════════╪═══════╪════════╪═════════════════════╡\n",
       "│ 1       ┆ 5.3   ┆ a      ┆ 2024-01-01 00:00:00 │\n",
       "│ 2       ┆ 4.6   ┆ b      ┆ 2024-04-10 00:00:00 │\n",
       "└─────────┴───────┴────────┴─────────────────────┘"
      ]
     },
     "execution_count": 56,
     "metadata": {},
     "output_type": "execute_result"
    }
   ],
   "source": [
    "df.filter(\n",
    "    (df['string'] == 'a') | (df['integer'] == 2)\n",
    ")"
   ]
  },
  {
   "cell_type": "markdown",
   "metadata": {},
   "source": []
  }
 ],
 "metadata": {
  "kernelspec": {
   "display_name": "Python 3",
   "language": "python",
   "name": "python3"
  },
  "language_info": {
   "codemirror_mode": {
    "name": "ipython",
    "version": 3
   },
   "file_extension": ".py",
   "mimetype": "text/x-python",
   "name": "python",
   "nbconvert_exporter": "python",
   "pygments_lexer": "ipython3",
   "version": "3.11.5"
  }
 },
 "nbformat": 4,
 "nbformat_minor": 2
}
